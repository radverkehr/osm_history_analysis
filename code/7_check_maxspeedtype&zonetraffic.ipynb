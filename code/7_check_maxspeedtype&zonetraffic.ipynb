{
 "cells": [
  {
   "cell_type": "code",
   "execution_count": 1,
   "metadata": {},
   "outputs": [],
   "source": [
    "import geopandas as gpd\n",
    "import pandas as pd"
   ]
  },
  {
   "cell_type": "code",
   "execution_count": null,
   "metadata": {},
   "outputs": [],
   "source": [
    "## Wie relevant sind neben \"maxspeed\" die anderen tags?\n",
    "## \"maxspeed:type\",\"maxspeed:forward\",\"maxspeed:backward\",\"zone:traffic\""
   ]
  },
  {
   "cell_type": "code",
   "execution_count": 2,
   "metadata": {},
   "outputs": [],
   "source": [
    "osm_roads_all = gpd.read_parquet(\"../processed_osm_files/germany_roads_2018_2024.parquet\")"
   ]
  },
  {
   "cell_type": "code",
   "execution_count": 9,
   "metadata": {},
   "outputs": [
    {
     "data": {
      "text/plain": [
       "np.float64(126385.89843544061)"
      ]
     },
     "execution_count": 9,
     "metadata": {},
     "output_type": "execute_result"
    }
   ],
   "source": [
    "## keep only roads with maxspeed 30 or 50\n",
    "osm_roads_all_3050=osm_roads_all[osm_roads_all.maxspeed.isin([\"30\",\"50\"])].copy()\n",
    "len(osm_roads_all_3050)\n",
    "\n",
    "osm_roads_all_3050= osm_roads_all_3050.to_crs(25832)\n",
    "osm_roads_all_3050['length'] = osm_roads_all_3050.geometry.length\n",
    "osm_roads_all_3050['length'].sum()/1000"
   ]
  },
  {
   "cell_type": "code",
   "execution_count": 15,
   "metadata": {},
   "outputs": [
    {
     "name": "stdout",
     "output_type": "stream",
     "text": [
      "Total length of roads with maxspeed 30 or 50 in Germany without type and zone:\n",
      "Total length of roads in 2018: 57457.48 km\n",
      "Total length of roads in 2024: 68928.42 km\n"
     ]
    }
   ],
   "source": [
    "length_2018 = osm_roads_all_3050[osm_roads_all_3050.year == \"2018\"]['length'].sum() / 1000\n",
    "length_2024 = osm_roads_all_3050[osm_roads_all_3050.year == \"2024\"]['length'].sum() / 1000\n",
    "\n",
    "print(\"Total length of roads with maxspeed 30 or 50 in Germany without type and zone:\")\n",
    "print(f\"Total length of roads in 2018: {length_2018:.2f} km\")\n",
    "print(f\"Total length of roads in 2024: {length_2024:.2f} km\")"
   ]
  },
  {
   "cell_type": "code",
   "execution_count": null,
   "metadata": {},
   "outputs": [],
   "source": [
    "\"maxspeed:type\",\"maxspeed:forward\",\"maxspeed:backward\",\"zone:traffic\""
   ]
  },
  {
   "cell_type": "code",
   "execution_count": 10,
   "metadata": {},
   "outputs": [
    {
     "data": {
      "text/plain": [
       "np.float64(128507.90218381377)"
      ]
     },
     "execution_count": 10,
     "metadata": {},
     "output_type": "execute_result"
    }
   ],
   "source": [
    "osm_roads_all_3050plus = osm_roads_all[\n",
    "    (osm_roads_all.maxspeed.isin([\"30\", \"50\"])) |\n",
    "    (osm_roads_all[\"zone:traffic\"] == \"DE:urban\") |\n",
    "    (osm_roads_all[\"maxspeed:type\"] == \"DE:urban\")\n",
    "].copy()\n",
    "\n",
    "len(osm_roads_all_3050plus)\n",
    "\n",
    "osm_roads_all_3050plus= osm_roads_all_3050plus.to_crs(25832)\n",
    "osm_roads_all_3050plus['length'] = osm_roads_all_3050plus.geometry.length\n",
    "osm_roads_all_3050plus['length'].sum()/1000\n"
   ]
  },
  {
   "cell_type": "code",
   "execution_count": 16,
   "metadata": {},
   "outputs": [
    {
     "name": "stdout",
     "output_type": "stream",
     "text": [
      "Total length of roads with maxspeed 30 or 50 in Germany with type and zone:\n",
      "Total length of roads in 2018: 57808.80 km\n",
      "Total length of roads in 2024: 70699.10 km\n"
     ]
    }
   ],
   "source": [
    "length_2018 = osm_roads_all_3050plus[osm_roads_all_3050plus.year == \"2018\"]['length'].sum() / 1000\n",
    "length_2024 = osm_roads_all_3050plus[osm_roads_all_3050plus.year == \"2024\"]['length'].sum() / 1000\n",
    "\n",
    "print(\"Total length of roads with maxspeed 30 or 50 in Germany with type and zone:\")\n",
    "\n",
    "print(f\"Total length of roads in 2018: {length_2018:.2f} km\")\n",
    "print(f\"Total length of roads in 2024: {length_2024:.2f} km\")"
   ]
  },
  {
   "cell_type": "code",
   "execution_count": null,
   "metadata": {},
   "outputs": [],
   "source": []
  },
  {
   "cell_type": "code",
   "execution_count": null,
   "metadata": {},
   "outputs": [],
   "source": []
  },
  {
   "cell_type": "code",
   "execution_count": 21,
   "metadata": {},
   "outputs": [
    {
     "data": {
      "text/plain": [
       "np.float64(130186.71089033471)"
      ]
     },
     "execution_count": 21,
     "metadata": {},
     "output_type": "execute_result"
    }
   ],
   "source": [
    "osm_roads_all_3050plus_bf = osm_roads_all[\n",
    "    (osm_roads_all.maxspeed.isin([\"30\", \"50\"])) |\n",
    "    (osm_roads_all[\"maxspeed:forward\"].isin([\"30\", \"50\"])) |\n",
    "    (osm_roads_all[\"maxspeed:backward\"].isin([\"30\", \"50\"])) |\n",
    "    (osm_roads_all[\"zone:traffic\"] == \"DE:urban\") |\n",
    "    (osm_roads_all[\"maxspeed:type\"] == \"DE:urban\")\n",
    "].copy()\n",
    "\n",
    "len(osm_roads_all_3050plus_bf)\n",
    "\n",
    "osm_roads_all_3050plus_bf= osm_roads_all_3050plus_bf.to_crs(25832)\n",
    "osm_roads_all_3050plus_bf['length'] = osm_roads_all_3050plus_bf.geometry.length\n",
    "osm_roads_all_3050plus_bf['length'].sum()/1000"
   ]
  },
  {
   "cell_type": "code",
   "execution_count": 22,
   "metadata": {},
   "outputs": [
    {
     "name": "stdout",
     "output_type": "stream",
     "text": [
      "Total length of roads with maxspeed 30 or 50 in Germany with type and zone, back and forward:\n",
      "Total length of roads in 2018: 58442.73 km\n",
      "Total length of roads in 2024: 71743.98 km\n"
     ]
    }
   ],
   "source": [
    "length_2018 = osm_roads_all_3050plus_bf[osm_roads_all_3050plus_bf.year == \"2018\"]['length'].sum() / 1000\n",
    "length_2024 = osm_roads_all_3050plus_bf[osm_roads_all_3050plus_bf.year == \"2024\"]['length'].sum() / 1000\n",
    "\n",
    "print(\"Total length of roads with maxspeed 30 or 50 in Germany with type and zone, back and forward:\")\n",
    "\n",
    "print(f\"Total length of roads in 2018: {length_2018:.2f} km\")\n",
    "print(f\"Total length of roads in 2024: {length_2024:.2f} km\")"
   ]
  },
  {
   "cell_type": "code",
   "execution_count": 25,
   "metadata": {},
   "outputs": [
    {
     "data": {
      "text/plain": [
       "maxspeed:forward  maxspeed:backward\n",
       "50                70                   2870\n",
       "70                50                   2834\n",
       "50                100                  2468\n",
       "100               50                   2382\n",
       "30                50                   1552\n",
       "50                30                   1482\n",
       "60                50                    404\n",
       "50                60                    354\n",
       "30                100                   111\n",
       "100               30                    108\n",
       "40                50                    106\n",
       "50                40                    106\n",
       "                  80                    100\n",
       "                  50                     85\n",
       "80                50                     64\n",
       "Name: count, dtype: int64"
      ]
     },
     "execution_count": 25,
     "metadata": {},
     "output_type": "execute_result"
    }
   ],
   "source": [
    "osm_roads_all_3050plus_bf[['maxspeed:forward', 'maxspeed:backward']].value_counts().head(15)"
   ]
  },
  {
   "cell_type": "code",
   "execution_count": 28,
   "metadata": {},
   "outputs": [
    {
     "data": {
      "text/html": [
       "<div>\n",
       "<style scoped>\n",
       "    .dataframe tbody tr th:only-of-type {\n",
       "        vertical-align: middle;\n",
       "    }\n",
       "\n",
       "    .dataframe tbody tr th {\n",
       "        vertical-align: top;\n",
       "    }\n",
       "\n",
       "    .dataframe thead th {\n",
       "        text-align: right;\n",
       "    }\n",
       "</style>\n",
       "<table border=\"1\" class=\"dataframe\">\n",
       "  <thead>\n",
       "    <tr style=\"text-align: right;\">\n",
       "      <th></th>\n",
       "      <th></th>\n",
       "      <th>count</th>\n",
       "      <th>total_length_km</th>\n",
       "    </tr>\n",
       "    <tr>\n",
       "      <th>maxspeed:forward</th>\n",
       "      <th>maxspeed:backward</th>\n",
       "      <th></th>\n",
       "      <th></th>\n",
       "    </tr>\n",
       "  </thead>\n",
       "  <tbody>\n",
       "    <tr>\n",
       "      <th>50</th>\n",
       "      <th>70</th>\n",
       "      <td>1898</td>\n",
       "      <td>184.322312</td>\n",
       "    </tr>\n",
       "    <tr>\n",
       "      <th>70</th>\n",
       "      <th>50</th>\n",
       "      <td>1891</td>\n",
       "      <td>182.721100</td>\n",
       "    </tr>\n",
       "    <tr>\n",
       "      <th>50</th>\n",
       "      <th>100</th>\n",
       "      <td>1628</td>\n",
       "      <td>160.614972</td>\n",
       "    </tr>\n",
       "    <tr>\n",
       "      <th>100</th>\n",
       "      <th>50</th>\n",
       "      <td>1535</td>\n",
       "      <td>160.956526</td>\n",
       "    </tr>\n",
       "    <tr>\n",
       "      <th>30</th>\n",
       "      <th>50</th>\n",
       "      <td>1098</td>\n",
       "      <td>71.609621</td>\n",
       "    </tr>\n",
       "    <tr>\n",
       "      <th>50</th>\n",
       "      <th>30</th>\n",
       "      <td>1058</td>\n",
       "      <td>71.181233</td>\n",
       "    </tr>\n",
       "    <tr>\n",
       "      <th>60</th>\n",
       "      <th>50</th>\n",
       "      <td>247</td>\n",
       "      <td>24.107143</td>\n",
       "    </tr>\n",
       "    <tr>\n",
       "      <th>50</th>\n",
       "      <th>60</th>\n",
       "      <td>229</td>\n",
       "      <td>20.510606</td>\n",
       "    </tr>\n",
       "    <tr>\n",
       "      <th>30</th>\n",
       "      <th>100</th>\n",
       "      <td>76</td>\n",
       "      <td>6.562056</td>\n",
       "    </tr>\n",
       "    <tr>\n",
       "      <th>100</th>\n",
       "      <th>30</th>\n",
       "      <td>72</td>\n",
       "      <td>6.657171</td>\n",
       "    </tr>\n",
       "    <tr>\n",
       "      <th rowspan=\"2\" valign=\"top\">50</th>\n",
       "      <th>80</th>\n",
       "      <td>70</td>\n",
       "      <td>7.773948</td>\n",
       "    </tr>\n",
       "    <tr>\n",
       "      <th>40</th>\n",
       "      <td>64</td>\n",
       "      <td>4.740334</td>\n",
       "    </tr>\n",
       "    <tr>\n",
       "      <th>40</th>\n",
       "      <th>50</th>\n",
       "      <td>64</td>\n",
       "      <td>6.258968</td>\n",
       "    </tr>\n",
       "    <tr>\n",
       "      <th>80</th>\n",
       "      <th>50</th>\n",
       "      <td>46</td>\n",
       "      <td>4.313881</td>\n",
       "    </tr>\n",
       "    <tr>\n",
       "      <th>50</th>\n",
       "      <th>50</th>\n",
       "      <td>46</td>\n",
       "      <td>4.800216</td>\n",
       "    </tr>\n",
       "  </tbody>\n",
       "</table>\n",
       "</div>"
      ],
      "text/plain": [
       "                                    count  total_length_km\n",
       "maxspeed:forward maxspeed:backward                        \n",
       "50               70                  1898       184.322312\n",
       "70               50                  1891       182.721100\n",
       "50               100                 1628       160.614972\n",
       "100              50                  1535       160.956526\n",
       "30               50                  1098        71.609621\n",
       "50               30                  1058        71.181233\n",
       "60               50                   247        24.107143\n",
       "50               60                   229        20.510606\n",
       "30               100                   76         6.562056\n",
       "100              30                    72         6.657171\n",
       "50               80                    70         7.773948\n",
       "                 40                    64         4.740334\n",
       "40               50                    64         6.258968\n",
       "80               50                    46         4.313881\n",
       "50               50                    46         4.800216"
      ]
     },
     "execution_count": 28,
     "metadata": {},
     "output_type": "execute_result"
    }
   ],
   "source": [
    "osm_roads_all_3050plus_bf[osm_roads_all_3050plus_bf.year == \"2024\"].groupby(['maxspeed:forward', 'maxspeed:backward']).agg(\n",
    "    count=('length', 'size'),\n",
    "    total_length_km=('length', lambda x: x.sum() / 1000)\n",
    ").sort_values(by='count', ascending=False).head(15)"
   ]
  },
  {
   "cell_type": "code",
   "execution_count": null,
   "metadata": {},
   "outputs": [],
   "source": []
  },
  {
   "cell_type": "code",
   "execution_count": null,
   "metadata": {},
   "outputs": [],
   "source": []
  }
 ],
 "metadata": {
  "kernelspec": {
   "display_name": "osmhistory",
   "language": "python",
   "name": "python3"
  },
  "language_info": {
   "codemirror_mode": {
    "name": "ipython",
    "version": 3
   },
   "file_extension": ".py",
   "mimetype": "text/x-python",
   "name": "python",
   "nbconvert_exporter": "python",
   "pygments_lexer": "ipython3",
   "version": "3.12.9"
  }
 },
 "nbformat": 4,
 "nbformat_minor": 2
}
