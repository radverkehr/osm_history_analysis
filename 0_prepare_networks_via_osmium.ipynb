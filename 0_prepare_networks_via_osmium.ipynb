{
 "cells": [
  {
   "cell_type": "code",
   "execution_count": 1,
   "id": "f7293c92-acd4-46dd-a8ee-fcc04821b478",
   "metadata": {},
   "outputs": [
    {
     "name": "stdout",
     "output_type": "stream",
     "text": [
      "Downloading: https://download.geofabrik.de/europe/germany-180101.osm.pbf\n",
      "Downloaded: osm_geofabrik_pbf\\germany-180101.osm.pbf\n",
      "Downloading: https://download.geofabrik.de/europe/germany-240101.osm.pbf\n",
      "Downloaded: osm_geofabrik_pbf\\germany-240101.osm.pbf\n",
      "🔹 Running:  osmium tags-filter osm_geofabrik_pbf\\germany-180101.osm.pbf w/highway=primary,primary_link,secondary,secondary_link,tertiary,tertiary_link -o processed_osm_files\\processed_roads_germany_18.pbf\n",
      "✅ Osmium processing complete! Files saved in 'processed_osm_files/'\n",
      "🔹 Running:  osmium tags-filter osm_geofabrik_pbf\\germany-240101.osm.pbf w/highway=primary,primary_link,secondary,secondary_link,tertiary,tertiary_link -o processed_osm_files\\processed_roads_germany_24.pbf\n",
      "✅ Osmium processing complete! Files saved in 'processed_osm_files/'\n"
     ]
    }
   ],
   "source": [
    "import os\n",
    "import requests\n",
    "import subprocess\n",
    "\n",
    "def download_geofabrik_pbf(years, base_url=\"https://download.geofabrik.de/europe/\"):\n",
    "    folder = \"osm_geofabrik_pbf\"\n",
    "    os.makedirs(folder, exist_ok=True)\n",
    "    \n",
    "    for year in years:\n",
    "        filename = f\"germany-{year}0101.osm.pbf\"\n",
    "        file_path = os.path.join(folder, filename)\n",
    "        file_url = base_url + filename\n",
    "        \n",
    "        if os.path.exists(file_path):\n",
    "            print(f\"File already exists: {file_path}, skipping download.\")\n",
    "        else:\n",
    "            print(f\"Downloading: {file_url}\")\n",
    "            response = requests.get(file_url, stream=True)\n",
    "            if response.status_code == 200:\n",
    "                with open(file_path, \"wb\") as f:\n",
    "                    for chunk in response.iter_content(chunk_size=1024):\n",
    "                        f.write(chunk)\n",
    "                print(f\"Downloaded: {file_path}\")\n",
    "            else:\n",
    "                print(f\"Failed to download {file_url} (Status code: {response.status_code})\")\n",
    "\n",
    "def run_osmium(year):\n",
    "    try:\n",
    "        folder = \"processed_osm_files\"\n",
    "        os.makedirs(folder, exist_ok=True)\n",
    "        \n",
    "        input_pbf = os.path.join(\"osm_geofabrik_pbf\", f\"germany-{year}0101.osm.pbf\")\n",
    "        filtered_pbf = os.path.join(folder, f\"processed_roads_germany_{year}.pbf\")\n",
    "\n",
    "        filter_command = [\n",
    "            \"osmium\", \"tags-filter\",\n",
    "            input_pbf,\n",
    "            \"w/highway=primary,primary_link,secondary,secondary_link,tertiary,tertiary_link\",\n",
    "            \"-o\", filtered_pbf\n",
    "        ]\n",
    "        print(\"🔹 Running: \", \" \".join(filter_command))\n",
    "        subprocess.run(filter_command, check=True)\n",
    "\n",
    "        print(\"✅ Osmium processing complete! Files saved in 'processed_osm_files/'\")\n",
    "\n",
    "    except subprocess.CalledProcessError as e:\n",
    "        print(\"❌ Error running Osmium:\", e)\n",
    "\n",
    "if __name__ == \"__main__\":\n",
    "    years = [18, 24]  # Configure the years you need\n",
    "    download_geofabrik_pbf(years)\n",
    "    \n",
    "    for year in years:\n",
    "        run_osmium(str(year))\n"
   ]
  },
  {
   "cell_type": "code",
   "execution_count": null,
   "id": "af717b08",
   "metadata": {},
   "outputs": [],
   "source": []
  }
 ],
 "metadata": {
  "kernelspec": {
   "display_name": "tempo30_new",
   "language": "python",
   "name": "python3"
  },
  "language_info": {
   "codemirror_mode": {
    "name": "ipython",
    "version": 3
   },
   "file_extension": ".py",
   "mimetype": "text/x-python",
   "name": "python",
   "nbconvert_exporter": "python",
   "pygments_lexer": "ipython3",
   "version": "3.12.9"
  }
 },
 "nbformat": 4,
 "nbformat_minor": 5
}
