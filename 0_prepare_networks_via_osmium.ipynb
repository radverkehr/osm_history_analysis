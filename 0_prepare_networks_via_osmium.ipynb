{
 "cells": [
  {
   "cell_type": "code",
   "execution_count": 19,
   "id": "3f69cfe0-9cdf-4caa-ae5e-52b105cfd253",
   "metadata": {},
   "outputs": [],
   "source": [
    "import geopandas as gpd\n",
    "import pandas as pd\n",
    "\n",
    "import json\n",
    "import osm2geojson\n",
    "import requests\n",
    "\n",
    "import datetime"
   ]
  },
  {
   "cell_type": "code",
   "execution_count": null,
   "id": "a1e112a8-65ac-42ce-aba7-963fa782525b",
   "metadata": {},
   "outputs": [],
   "source": []
  },
  {
   "cell_type": "markdown",
   "id": "c268b74b-a391-4091-9dec-169a071a050c",
   "metadata": {},
   "source": [
    "# get geometry"
   ]
  },
  {
   "cell_type": "code",
   "execution_count": 33,
   "id": "b7f89250-8523-4872-b02a-fd6319588da9",
   "metadata": {},
   "outputs": [],
   "source": [
    "shape_name= \"Neukölln\"\n",
    "shape_name_str=shape_name.replace(\"ö\",\"oe\")"
   ]
  },
  {
   "cell_type": "code",
   "execution_count": 21,
   "id": "e78b8bb7-e793-4805-a36e-24134d0362b1",
   "metadata": {},
   "outputs": [],
   "source": [
    "## Should use [out:json] in the query as later osmtogeojson does not parse XML\n",
    "query = \"\"\"\n",
    "[out:json][timeout:25];\n",
    "area[name=\"Berlin\"]->.searchArea;\n",
    "(relation[\"admin_level\"=\"9\"][\"name\"=\"Neukölln\"](area.searchArea););\n",
    "out body;\n",
    ">;\n",
    "out skel qt;\n",
    "\"\"\"\n",
    "\n",
    "url = \"http://overpass-api.de/api/interpreter\"\n",
    "r = requests.get(url, params={'data': query})#,  proxies=proxies)\n",
    "\n",
    "res_geojson = osm2geojson.json2geojson(r.json())"
   ]
  },
  {
   "cell_type": "markdown",
   "id": "41e0e94f-1d9a-44f8-bd64-e4f5bf37dad3",
   "metadata": {},
   "source": [
    "### Bundesland"
   ]
  },
  {
   "cell_type": "code",
   "execution_count": 27,
   "id": "901beede-bcfd-4a8e-b42b-75e3ea148c21",
   "metadata": {},
   "outputs": [],
   "source": [
    "shape_name= \"Hessen\"\n",
    "shape_name_str=shape_name.replace(\"ö\",\"oe\")"
   ]
  },
  {
   "cell_type": "code",
   "execution_count": 34,
   "id": "645ab0ac-3734-49ac-b197-efac8c7ca71f",
   "metadata": {},
   "outputs": [],
   "source": [
    "## Should use [out:json] in the query as later osmtogeojson does not parse XML\n",
    "query = \"\"\"\n",
    "[out:json][timeout:25];\n",
    "area[name=\"Hessen\"]->.searchArea;\n",
    "(relation[\"admin_level\"=\"4\"](area.searchArea););\n",
    "out body;\n",
    ">;\n",
    "out skel qt;\n",
    "\"\"\"\n",
    "\n",
    "url = \"http://overpass-api.de/api/interpreter\"\n",
    "r = requests.get(url, params={'data': query})#,  proxies=proxies)\n",
    "\n",
    "res_geojson = osm2geojson.json2geojson(r.json())"
   ]
  },
  {
   "cell_type": "code",
   "execution_count": null,
   "id": "f76e0c3e-f9e7-49ad-a2c9-29f87fbd633a",
   "metadata": {},
   "outputs": [],
   "source": []
  },
  {
   "cell_type": "markdown",
   "id": "85928ebd-7b66-477f-9235-0f6c9de65eba",
   "metadata": {},
   "source": [
    "## Deutschland"
   ]
  },
  {
   "cell_type": "code",
   "execution_count": 43,
   "id": "23afa726-df4f-48a4-8b8a-d5e2ae0fb6e1",
   "metadata": {},
   "outputs": [],
   "source": [
    "shape_name= \"Deutschland\"\n",
    "shape_name_str=shape_name.replace(\"ö\",\"oe\")"
   ]
  },
  {
   "cell_type": "code",
   "execution_count": 47,
   "id": "2d51d3b3-9a00-46e6-8db4-4d320433f9a3",
   "metadata": {},
   "outputs": [],
   "source": [
    "## Should use [out:json] in the query as later osmtogeojson does not parse XML\n",
    "query = \"\"\"\n",
    "[out:json][timeout:25];\n",
    "// Get the Germany boundary as a relation\n",
    "rel[admin_level=2][\"ISO3166-1\"=\"DE\"];\n",
    "out body;\n",
    ">;\n",
    "out skel qt;\n",
    "\"\"\"\n",
    "\n",
    "url = \"http://overpass-api.de/api/interpreter\"\n",
    "r = requests.get(url, params={'data': query})#,  proxies=proxies)\n",
    "\n",
    "res_geojson = osm2geojson.json2geojson(r.json())"
   ]
  },
  {
   "cell_type": "code",
   "execution_count": 48,
   "id": "dcaee249-d04b-4539-bca6-cdca1d91b50c",
   "metadata": {},
   "outputs": [
    {
     "data": {
      "text/plain": [
       "<Axes: >"
      ]
     },
     "execution_count": 48,
     "metadata": {},
     "output_type": "execute_result"
    },
    {
     "data": {
      "image/png": "[encoded data removed]",
      "text/plain": [
       "<Figure size 640x480 with 1 Axes>"
      ]
     },
     "metadata": {},
     "output_type": "display_data"
    }
   ],
   "source": [
    "gdf_osm_shape = gpd.GeoDataFrame.from_features(res_geojson, crs=\"4326\")\n",
    "gdf_osm_shape_poly=gdf_osm_shape[gdf_osm_shape[\"type\"]==\"relation\"]\n",
    "gdf_osm_shape_poly.plot()"
   ]
  },
  {
   "cell_type": "code",
   "execution_count": 49,
   "id": "5ee0727f-bccf-4459-aae9-9b87ff5dda0c",
   "metadata": {},
   "outputs": [],
   "source": [
    "# fixing hessen\n",
    "#gdf_osm_shape_poly=gdf_osm_shape_poly[gdf_osm_shape_poly[\"id\"]==62650]\n",
    "#gdf_osm_shape_poly.plot()"
   ]
  },
  {
   "cell_type": "code",
   "execution_count": 50,
   "id": "81b0018a-d090-452c-bfb2-0c919f45b5bc",
   "metadata": {},
   "outputs": [],
   "source": [
    "gdf_osm_shape_poly.to_file(\"osm_files/\"+ shape_name_str+ \"_poly_shape.geojson\")"
   ]
  },
  {
   "cell_type": "code",
   "execution_count": 51,
   "id": "91cb0705-449e-46db-9ada-2387dc0376e3",
   "metadata": {},
   "outputs": [],
   "source": [
    "#gdf_osm_shape_poly.buffer(0.0001)"
   ]
  },
  {
   "cell_type": "code",
   "execution_count": null,
   "id": "9b1afa31-3e1c-4ea7-b5cd-0f23d53b8401",
   "metadata": {},
   "outputs": [],
   "source": []
  },
  {
   "cell_type": "code",
   "execution_count": null,
   "id": "f863e541-a3ee-4112-a117-bcd791060cb9",
   "metadata": {},
   "outputs": [],
   "source": []
  },
  {
   "cell_type": "code",
   "execution_count": 52,
   "id": "2a92c3ce-e131-4afa-89de-7238ced20bac",
   "metadata": {},
   "outputs": [
    {
     "name": "stdout",
     "output_type": "stream",
     "text": [
      "🔹 Running:  osmium extract --polygon=osm_files/Deutschland_poly_shape.geojson -o osm_files/Deutschland_17.pbf osm_files/germany-170101.osm.pbf\n",
      "🔹 Running:  osmium tags-filter osm_files/Deutschland_17.pbf w/highway=primary,primary_link,secondary,secondary_link,tertiary,tertiary_link -o osm_files/Deutschland_roads_17.pbf\n",
      "✅ Osmium processing complete! Files saved in 'osm_files/'\n",
      "🔹 Running:  osmium extract --polygon=osm_files/Deutschland_poly_shape.geojson -o osm_files/Deutschland_24.pbf osm_files/germany-240101.osm.pbf\n",
      "🔹 Running:  osmium tags-filter osm_files/Deutschland_24.pbf w/highway=primary,primary_link,secondary,secondary_link,tertiary,tertiary_link -o osm_files/Deutschland_roads_24.pbf\n",
      "✅ Osmium processing complete! Files saved in 'osm_files/'\n"
     ]
    }
   ],
   "source": [
    "import subprocess\n",
    "\n",
    "def run_osmium(year):\n",
    "    try:\n",
    "        # Set file paths inside the \"osm_files\" folder\n",
    "        base_dir = \"osm_files/\"\n",
    "        input_pbf = base_dir + \"germany-\"+year+\"0101.osm.pbf\"\n",
    "        #polygon_geojson = base_dir + \"berlin.geojson\"\n",
    "        polygon_geojson = base_dir + shape_name_str+ \"_poly_shape.geojson\"\n",
    "        extracted_pbf = base_dir + shape_name_str + \"_\" + year + \".pbf\"\n",
    "        filtered_pbf = base_dir + shape_name_str + \"_roads_\" + year + \".pbf\"\n",
    "        #output_geojson = base_dir + \"berlin_roads_new.geojson\"\n",
    "\n",
    "        # Extract area using a GeoJSON polygon\n",
    "        extract_command = [\n",
    "            \"osmium\", \"extract\",\n",
    "            \"--polygon=\" + polygon_geojson,\n",
    "            \"-o\", extracted_pbf,\n",
    "            input_pbf\n",
    "        ]\n",
    "        print(\"🔹 Running: \", \" \".join(extract_command))\n",
    "        subprocess.run(extract_command, check=True)\n",
    "\n",
    "        # Filter highways (primary, secondary, tertiary, and links)\n",
    "        filter_command = [\n",
    "            \"osmium\", \"tags-filter\",\n",
    "            extracted_pbf,\n",
    "            \"w/highway=primary,primary_link,secondary,secondary_link,tertiary,tertiary_link\",\n",
    "            \"-o\", filtered_pbf\n",
    "        ]\n",
    "        print(\"🔹 Running: \", \" \".join(filter_command))\n",
    "        subprocess.run(filter_command, check=True)\n",
    "\n",
    "        ## Convert extracted roads to GeoJSON\n",
    "        #convert_command = [\n",
    "        #    \"osmium\", \"export\",\n",
    "        #    \"-o\", output_geojson,\n",
    "        #    filtered_pbf\n",
    "        #]\n",
    "        #print(\"🔹 Running: \", \" \".join(convert_command))\n",
    "        #subprocess.run(convert_command, check=True)\n",
    "\n",
    "        print(\"✅ Osmium processing complete! Files saved in 'osm_files/'\")\n",
    "\n",
    "    except subprocess.CalledProcessError as e:\n",
    "        print(\"❌ Error running Osmium:\", e)\n",
    "\n",
    "# Run the function\n",
    "\n",
    "for y in [\"17\", \"24\"]:\n",
    "    run_osmium(y)\n"
   ]
  },
  {
   "cell_type": "code",
   "execution_count": null,
   "id": "f7293c92-acd4-46dd-a8ee-fcc04821b478",
   "metadata": {},
   "outputs": [],
   "source": []
  }
 ],
 "metadata": {
  "kernelspec": {
   "display_name": "Python 3 (ipykernel)",
   "language": "python",
   "name": "python3"
  },
  "language_info": {
   "codemirror_mode": {
    "name": "ipython",
    "version": 3
   },
   "file_extension": ".py",
   "mimetype": "text/x-python",
   "name": "python",
   "nbconvert_exporter": "python",
   "pygments_lexer": "ipython3",
   "version": "3.12.9"
  }
 },
 "nbformat": 4,
 "nbformat_minor": 5
}
